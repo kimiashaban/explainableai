{
 "cells": [
  {
   "cell_type": "markdown",
   "metadata": {},
   "source": [
    "# Explainable AI "
   ]
  },
  {
   "cell_type": "markdown",
   "metadata": {},
   "source": [
    "## Imports\n"
   ]
  },
  {
   "cell_type": "code",
   "execution_count": 16,
   "metadata": {},
   "outputs": [],
   "source": [
    "from stable_baselines3 import DQN\n",
    "import gymnasium as gym\n",
    "from gymnasium import spaces\n",
    "from gymnasium.utils import seeding\n",
    "import numpy as np\n",
    "from sklearn.tree import DecisionTreeClassifier, plot_tree, export_graphviz\n",
    "import matplotlib.pyplot as plt\n",
    "import csv\n",
    "import imageio.v2 as imageio\n",
    "import pydotplus\n",
    "from IPython.display import Image\n",
    "import io"
   ]
  },
  {
   "cell_type": "markdown",
   "metadata": {},
   "source": [
    "## Create Instance of Environment \n",
    "\n",
    "This code creates an instance of the AirlineseatInventoryEnv class, and sets the parameters to the ranges written below. "
   ]
  },
  {
   "cell_type": "code",
   "execution_count": 18,
   "metadata": {},
   "outputs": [],
   "source": [
    "env = AirlineSeatInventoryEnv(\n",
    "    num_seats=150,\n",
    "    price_range=[500, 1000],\n",
    "    time_till_flight=20,\n",
    "    season_range=[0.5, 1.5],\n",
    "    demand_lambda=10\n",
    ")"
   ]
  },
  {
   "cell_type": "markdown",
   "metadata": {},
   "source": [
    "## Load the model"
   ]
  },
  {
   "cell_type": "code",
   "execution_count": 21,
   "metadata": {},
   "outputs": [],
   "source": [
    "# train and load the model, if you wish to generate state action pairs\n",
    "#model_path = \"insert_name_here\"\n",
    "#model = DQN.load(model_path)"
   ]
  },
  {
   "cell_type": "markdown",
   "metadata": {},
   "source": [
    "## Sample State-Action Pairs\n",
    "\n",
    "We create state-action pairs to use to train the decision tree based on what actions are picked based on states that the model is provided. We "
   ]
  },
  {
   "cell_type": "code",
   "execution_count": 22,
   "metadata": {},
   "outputs": [],
   "source": [
    "# Sample the environment to collect data for the decision tree\n",
    "# this function will return the state-action pairs that will be used to train the decision tree\n",
    "\n",
    "def sample():\n",
    "    state_action_pairs = []\n",
    "    X = []  # states\n",
    "    y = []  # actions\n",
    "    state, _ = env.reset()\n",
    "\n",
    "    # Collect data from the model, by running the model in the environment\n",
    "    # and storing the state-action pairs. This data will be used to train a decision tree\n",
    "    # Here we collect 1000 samples\n",
    "    for _ in range(1000):\n",
    "        action, _ = model.predict(state, deterministic=False)\n",
    "        state, _, _, _, _ = env.step(action)\n",
    "        state_action_pairs.append((state, action))\n",
    "        X.append(state)\n",
    "        y.append(action)\n",
    "        state, _ = env.reset()\n",
    "    X = np.array(X)\n",
    "    y = np.array(y)\n",
    "\n",
    "    # Combine X and y into one array for saving. Assuming y can be appended to X.\n",
    "    # This depends on whether the dimensions of X allow for appending y directly.\n",
    "    # If y is a simple vector and X is 2D, you can use np.column_stack\n",
    "    combined = np.column_stack((X, y))\n",
    "    \n",
    "    # Save the data to a csv file\n",
    "    np.savetxt(\"state_action_pairs.csv\", combined, delimiter=\",\")\n"
   ]
  },
  {
   "cell_type": "markdown",
   "metadata": {},
   "source": [
    "We only need to sample state-action pairs once, so that our trees remain consistent with the explanation in the notebook. If you wish to generate new state-action pairs, you can uncomment sample in the code box below. "
   ]
  },
  {
   "cell_type": "code",
   "execution_count": 23,
   "metadata": {},
   "outputs": [],
   "source": [
    "sample()"
   ]
  },
  {
   "cell_type": "code",
   "execution_count": 24,
   "metadata": {},
   "outputs": [],
   "source": [
    "state_action_pairs = np.loadtxt(\"state_action_pairs.csv\", delimiter=',')\n",
    "\n",
    "X = state_action_pairs[:, :-1]  # All rows, all columns except the last one\n",
    "y = state_action_pairs[:, -1]   # All rows, just the last column\n"
   ]
  },
  {
   "cell_type": "code",
   "execution_count": 25,
   "metadata": {},
   "outputs": [],
   "source": [
    "# Train the decision tree using the state-action pairs collected from the model\n",
    "clf = DecisionTreeClassifier().fit(X, y)\n",
    "\n",
    "# create class names and feature names for the decision tree\n",
    "# this is optional, but can be useful for visualizing the tree\n",
    "class_names = []\n",
    "feature_names = []"
   ]
  },
  {
   "cell_type": "markdown",
   "metadata": {},
   "source": [
    "## Visualize the Decision Tree"
   ]
  },
  {
   "cell_type": "code",
   "execution_count": 1,
   "metadata": {},
   "outputs": [
    {
     "ename": "NameError",
     "evalue": "name 'plt' is not defined",
     "output_type": "error",
     "traceback": [
      "\u001b[0;31m---------------------------------------------------------------------------\u001b[0m",
      "\u001b[0;31mNameError\u001b[0m                                 Traceback (most recent call last)",
      "\u001b[1;32m/Users/kimiashaban/explainableai/airline_explanainable.ipynb Cell 15\u001b[0m line \u001b[0;36m2\n\u001b[1;32m      <a href='vscode-notebook-cell:/Users/kimiashaban/explainableai/airline_explanainable.ipynb#X26sZmlsZQ%3D%3D?line=0'>1</a>\u001b[0m \u001b[39m# Visualize the tree\u001b[39;00m\n\u001b[0;32m----> <a href='vscode-notebook-cell:/Users/kimiashaban/explainableai/airline_explanainable.ipynb#X26sZmlsZQ%3D%3D?line=1'>2</a>\u001b[0m plt\u001b[39m.\u001b[39mfigure(figsize\u001b[39m=\u001b[39m(\u001b[39m25\u001b[39m, \u001b[39m25\u001b[39m))\n\u001b[1;32m      <a href='vscode-notebook-cell:/Users/kimiashaban/explainableai/airline_explanainable.ipynb#X26sZmlsZQ%3D%3D?line=2'>3</a>\u001b[0m \u001b[39m# plot the tree with filled nodes and rounded corners\u001b[39;00m\n\u001b[1;32m      <a href='vscode-notebook-cell:/Users/kimiashaban/explainableai/airline_explanainable.ipynb#X26sZmlsZQ%3D%3D?line=3'>4</a>\u001b[0m plot_tree(clf, filled\u001b[39m=\u001b[39m\u001b[39mTrue\u001b[39;00m, rounded\u001b[39m=\u001b[39m\u001b[39mTrue\u001b[39;00m, \n\u001b[1;32m      <a href='vscode-notebook-cell:/Users/kimiashaban/explainableai/airline_explanainable.ipynb#X26sZmlsZQ%3D%3D?line=4'>5</a>\u001b[0m           class_names\u001b[39m=\u001b[39mclass_names,\n\u001b[1;32m      <a href='vscode-notebook-cell:/Users/kimiashaban/explainableai/airline_explanainable.ipynb#X26sZmlsZQ%3D%3D?line=5'>6</a>\u001b[0m           feature_names\u001b[39m=\u001b[39mfeature_names, \n\u001b[1;32m      <a href='vscode-notebook-cell:/Users/kimiashaban/explainableai/airline_explanainable.ipynb#X26sZmlsZQ%3D%3D?line=6'>7</a>\u001b[0m           node_ids\u001b[39m=\u001b[39m\u001b[39mFalse\u001b[39;00m)\n",
      "\u001b[0;31mNameError\u001b[0m: name 'plt' is not defined"
     ]
    }
   ],
   "source": [
    "# Visualize the tree\n",
    "plt.figure(figsize=(25, 25))\n",
    "# plot the tree with filled nodes and rounded corners\n",
    "plot_tree(clf, filled=True, rounded=True, \n",
    "          class_names=class_names,\n",
    "          feature_names=feature_names, \n",
    "          node_ids=False)\n",
    "# save the tree to a pdf file\n",
    "save_path = \"decision_tree.pdf\"\n",
    "plt.savefig(save_path)"
   ]
  },
  {
   "cell_type": "markdown",
   "metadata": {},
   "source": [
    "## Traversing the Decision Tree"
   ]
  },
  {
   "cell_type": "code",
   "execution_count": 27,
   "metadata": {},
   "outputs": [],
   "source": [
    "def decision_tree_parser(clf, sample, feature_names, class_names, save_path=None):\n",
    "    # Get the sample\n",
    "    # Get the decision path for the sample\n",
    "    decision_path = clf.decision_path(sample)\n",
    "    node_indicator = decision_path.indices\n",
    "    images = []\n",
    "\n",
    "    # Generate dot data\n",
    "    dot_data = export_graphviz(clf, out_file=None, feature_names=feature_names, \n",
    "                               class_names=class_names, filled=True, rounded=True,\n",
    "                               special_characters=True)\n",
    "\n",
    "    # Parse dot file\n",
    "    graph = pydotplus.graph_from_dot_data(dot_data)\n",
    "\n",
    "    # Highlight each node in the path\n",
    "    for node_id in node_indicator:\n",
    "        # Get the node\n",
    "        node = graph.get_node(str(node_id))[0]\n",
    "        # Change node attributes to highlight\n",
    "        node.set_fillcolor(\"red\")\n",
    "\n",
    "        # Create PNG image\n",
    "        png_str = graph.create_png(prog='dot')\n",
    "        sio = io.BytesIO(png_str)\n",
    "        image = imageio.imread(sio)\n",
    "        images.append(image)\n",
    "\n",
    "        # Reset color for next iteration\n",
    "        node.set_fillcolor(\"white\")\n",
    "\n",
    "    # Create and save GIF if save_path is provided\n",
    "    if save_path:\n",
    "        gif_name = f'{save_path}.gif'\n",
    "        imageio.mimsave(gif_name, images, fps=0.5)\n",
    "        return Image(filename=gif_name)\n",
    "    else:\n",
    "        # Create a temporary GIF to display (in-memory)\n",
    "        sio = io.BytesIO()\n",
    "        imageio.mimsave(sio, images, fps=0.5, format='gif')\n",
    "        sio.seek(0)\n",
    "        return Image(data=sio.getvalue())\n",
    "\n"
   ]
  },
  {
   "cell_type": "code",
   "execution_count": 2,
   "metadata": {},
   "outputs": [
    {
     "ename": "NameError",
     "evalue": "name 'decision_tree_parser' is not defined",
     "output_type": "error",
     "traceback": [
      "\u001b[0;31m---------------------------------------------------------------------------\u001b[0m",
      "\u001b[0;31mNameError\u001b[0m                                 Traceback (most recent call last)",
      "\u001b[1;32m/Users/kimiashaban/explainableai/airline_explanainable.ipynb Cell 18\u001b[0m line \u001b[0;36m2\n\u001b[1;32m      <a href='vscode-notebook-cell:/Users/kimiashaban/explainableai/airline_explanainable.ipynb#X34sZmlsZQ%3D%3D?line=0'>1</a>\u001b[0m \u001b[39m# 710 is a random sample number picked to illustrate the path\u001b[39;00m\n\u001b[0;32m----> <a href='vscode-notebook-cell:/Users/kimiashaban/explainableai/airline_explanainable.ipynb#X34sZmlsZQ%3D%3D?line=1'>2</a>\u001b[0m decision_tree_parser(clf, X[[\u001b[39m710\u001b[39m]], feature_names, class_names, \u001b[39m'\u001b[39m\u001b[39mdecision_tree_path\u001b[39m\u001b[39m'\u001b[39m)\n",
      "\u001b[0;31mNameError\u001b[0m: name 'decision_tree_parser' is not defined"
     ]
    }
   ],
   "source": [
    "# 710 is a random sample number picked to illustrate the path\n",
    "decision_tree_parser(clf, X[[710]], feature_names, class_names, 'decision_tree_path')"
   ]
  }
 ],
 "metadata": {
  "kernelspec": {
   "display_name": "Python 3",
   "language": "python",
   "name": "python3"
  },
  "language_info": {
   "codemirror_mode": {
    "name": "ipython",
    "version": 3
   },
   "file_extension": ".py",
   "mimetype": "text/x-python",
   "name": "python",
   "nbconvert_exporter": "python",
   "pygments_lexer": "ipython3",
   "version": "3.10.12"
  }
 },
 "nbformat": 4,
 "nbformat_minor": 2
}
